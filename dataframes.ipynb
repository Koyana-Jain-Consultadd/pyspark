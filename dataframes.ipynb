{
 "cells": [
  {
   "cell_type": "code",
   "execution_count": 1,
   "metadata": {},
   "outputs": [
    {
     "name": "stderr",
     "output_type": "stream",
     "text": [
      "24/04/04 18:07:49 WARN Utils: Your hostname, Koyanas-MacBook-Pro.local resolves to a loopback address: 127.0.0.1; using 192.168.29.17 instead (on interface en0)\n",
      "24/04/04 18:07:49 WARN Utils: Set SPARK_LOCAL_IP if you need to bind to another address\n",
      "Setting default log level to \"WARN\".\n",
      "To adjust logging level use sc.setLogLevel(newLevel). For SparkR, use setLogLevel(newLevel).\n",
      "24/04/04 18:07:50 WARN NativeCodeLoader: Unable to load native-hadoop library for your platform... using builtin-java classes where applicable\n"
     ]
    }
   ],
   "source": [
    "import pyspark\n",
    "from pyspark.sql import SparkSession\n",
    "\n",
    "spark=SparkSession.builder.appName('Practice').getOrCreate()"
   ]
  },
  {
   "cell_type": "code",
   "execution_count": 2,
   "metadata": {},
   "outputs": [
    {
     "name": "stdout",
     "output_type": "stream",
     "text": [
      "+-----------------------------------------+\n",
      "|Username; Identifier;First name;Last name|\n",
      "+-----------------------------------------+\n",
      "|                     booker12;9012;Rac...|\n",
      "|                     grey07;2070;Laura...|\n",
      "|                     johnson81;4081;Cr...|\n",
      "|                     jenkins46;9346;Ma...|\n",
      "|                     smith79;5079;Jami...|\n",
      "+-----------------------------------------+\n",
      "\n"
     ]
    }
   ],
   "source": [
    "df=spark.read.option('header','true').csv('username.csv',inferSchema=True)\n",
    "df.show() #to print csv data\n"
   ]
  },
  {
   "cell_type": "code",
   "execution_count": 3,
   "metadata": {},
   "outputs": [
    {
     "name": "stdout",
     "output_type": "stream",
     "text": [
      "root\n",
      " |-- Username; Identifier;First name;Last name: string (nullable = true)\n",
      "\n"
     ]
    }
   ],
   "source": [
    "df.printSchema()"
   ]
  },
  {
   "cell_type": "code",
   "execution_count": 4,
   "metadata": {},
   "outputs": [
    {
     "data": {
      "text/plain": [
       "['Username; Identifier;First name;Last name']"
      ]
     },
     "execution_count": 4,
     "metadata": {},
     "output_type": "execute_result"
    }
   ],
   "source": [
    "df.columns"
   ]
  },
  {
   "cell_type": "code",
   "execution_count": 5,
   "metadata": {},
   "outputs": [
    {
     "data": {
      "text/plain": [
       "[Row(Username; Identifier;First name;Last name='booker12;9012;Rachel;Booker'),\n",
       " Row(Username; Identifier;First name;Last name='grey07;2070;Laura;Grey'),\n",
       " Row(Username; Identifier;First name;Last name='johnson81;4081;Craig;Johnson')]"
      ]
     },
     "execution_count": 5,
     "metadata": {},
     "output_type": "execute_result"
    }
   ],
   "source": [
    "df.head(3)"
   ]
  },
  {
   "cell_type": "code",
   "execution_count": 9,
   "metadata": {},
   "outputs": [
    {
     "name": "stdout",
     "output_type": "stream",
     "text": [
      "root\n",
      " |-- Username: string (nullable = true)\n",
      " |-- Identifier: string (nullable = true)\n",
      " |-- First name: string (nullable = true)\n",
      " |-- Last name: string (nullable = true)\n",
      "\n",
      "+---------+\n",
      "| Username|\n",
      "+---------+\n",
      "| booker12|\n",
      "|   grey07|\n",
      "|johnson81|\n",
      "|jenkins46|\n",
      "|  smith79|\n",
      "+---------+\n",
      "\n"
     ]
    }
   ],
   "source": [
    "from pyspark.sql.functions import split\n",
    "\n",
    "# Split the concatenated column into separate columns\n",
    "df_split = df.withColumn(\"split_column\", split(df[\"Username; Identifier;First name;Last name\"], \";\"))\n",
    "\n",
    "# Extract each individual column from the split_column array\n",
    "df_parsed = df_split.selectExpr(\"split_column[0] as Username\", \"split_column[1] as Identifier\", \"split_column[2] as `First name`\", \"split_column[3] as `Last name`\")\n",
    "\n",
    "# Show the parsed DataFrame schema\n",
    "df_parsed.printSchema()\n",
    "\n",
    "# Now you can select the 'Username' column\n",
    "df_parsed.select('Username').show()"
   ]
  },
  {
   "cell_type": "code",
   "execution_count": 10,
   "metadata": {},
   "outputs": [
    {
     "name": "stdout",
     "output_type": "stream",
     "text": [
      "+---------+----------+\n",
      "| Username|Identifier|\n",
      "+---------+----------+\n",
      "| booker12|      9012|\n",
      "|   grey07|      2070|\n",
      "|johnson81|      4081|\n",
      "|jenkins46|      9346|\n",
      "|  smith79|      5079|\n",
      "+---------+----------+\n",
      "\n"
     ]
    }
   ],
   "source": [
    "df_parsed.select(['Username','Identifier']).show()"
   ]
  },
  {
   "cell_type": "code",
   "execution_count": 11,
   "metadata": {},
   "outputs": [
    {
     "name": "stdout",
     "output_type": "stream",
     "text": [
      "+---------+----------+----------+---------+\n",
      "| Username|Identifier|First name|Last name|\n",
      "+---------+----------+----------+---------+\n",
      "| booker12|      9012|    Rachel|   Booker|\n",
      "|   grey07|      2070|     Laura|     Grey|\n",
      "|johnson81|      4081|     Craig|  Johnson|\n",
      "|jenkins46|      9346|      Mary|  Jenkins|\n",
      "|  smith79|      5079|     Jamie|    Smith|\n",
      "+---------+----------+----------+---------+\n",
      "\n"
     ]
    }
   ],
   "source": [
    "df_parsed.show()"
   ]
  },
  {
   "cell_type": "code",
   "execution_count": 12,
   "metadata": {},
   "outputs": [
    {
     "data": {
      "text/plain": [
       "[('Username', 'string'),\n",
       " ('Identifier', 'string'),\n",
       " ('First name', 'string'),\n",
       " ('Last name', 'string')]"
      ]
     },
     "execution_count": 12,
     "metadata": {},
     "output_type": "execute_result"
    }
   ],
   "source": [
    "df_parsed.dtypes"
   ]
  },
  {
   "cell_type": "code",
   "execution_count": 13,
   "metadata": {},
   "outputs": [
    {
     "data": {
      "text/plain": [
       "[('Username; Identifier;First name;Last name', 'string')]"
      ]
     },
     "execution_count": 13,
     "metadata": {},
     "output_type": "execute_result"
    }
   ],
   "source": [
    "df.dtypes"
   ]
  },
  {
   "cell_type": "code",
   "execution_count": 15,
   "metadata": {},
   "outputs": [
    {
     "name": "stdout",
     "output_type": "stream",
     "text": [
      "+-------+-----------------------------------------+\n",
      "|summary|Username; Identifier;First name;Last name|\n",
      "+-------+-----------------------------------------+\n",
      "|  count|                                        5|\n",
      "|   mean|                                     NULL|\n",
      "| stddev|                                     NULL|\n",
      "|    min|                     booker12;9012;Rac...|\n",
      "|    max|                     smith79;5079;Jami...|\n",
      "+-------+-----------------------------------------+\n",
      "\n"
     ]
    }
   ],
   "source": [
    "df.describe().show()"
   ]
  },
  {
   "cell_type": "code",
   "execution_count": 22,
   "metadata": {},
   "outputs": [
    {
     "name": "stdout",
     "output_type": "stream",
     "text": [
      "+-----------------------------------------+---+------+\n",
      "|Username; Identifier;First name;Last name|Age|Salary|\n",
      "+-----------------------------------------+---+------+\n",
      "|                     booker12;9012;Rac...|  0|     0|\n",
      "|                     grey07;2070;Laura...|  0|     0|\n",
      "|                     johnson81;4081;Cr...|  0|     0|\n",
      "|                     jenkins46;9346;Ma...|  0|     0|\n",
      "|                     smith79;5079;Jami...|  0|     0|\n",
      "+-----------------------------------------+---+------+\n",
      "\n"
     ]
    }
   ],
   "source": [
    "#adding column\n",
    "# Import necessary functions from PySpark\n",
    "from pyspark.sql.functions import lit\n",
    "\n",
    "# Adding a column named 'Age' with a default value of 0\n",
    "df = df.withColumn('Age', lit(0))\n",
    "df = df.withColumn('Salary', lit(0))\n",
    "\n",
    "# Show the DataFrame with the new 'Age' column\n",
    "df.show()"
   ]
  },
  {
   "cell_type": "code",
   "execution_count": 23,
   "metadata": {},
   "outputs": [
    {
     "data": {
      "text/plain": [
       "DataFrame[Username; Identifier;First name;Last name: string, Salary: int]"
      ]
     },
     "execution_count": 23,
     "metadata": {},
     "output_type": "execute_result"
    }
   ],
   "source": [
    "df.drop('Age')"
   ]
  },
  {
   "cell_type": "code",
   "execution_count": 24,
   "metadata": {},
   "outputs": [
    {
     "name": "stdout",
     "output_type": "stream",
     "text": [
      "+-----------------------------------------+---+------+\n",
      "|Username; Identifier;First name;Last name|Age|Salary|\n",
      "+-----------------------------------------+---+------+\n",
      "|                     booker12;9012;Rac...|  0|     0|\n",
      "|                     grey07;2070;Laura...|  0|     0|\n",
      "|                     johnson81;4081;Cr...|  0|     0|\n",
      "|                     jenkins46;9346;Ma...|  0|     0|\n",
      "|                     smith79;5079;Jami...|  0|     0|\n",
      "+-----------------------------------------+---+------+\n",
      "\n"
     ]
    }
   ],
   "source": [
    "df.show()"
   ]
  },
  {
   "cell_type": "code",
   "execution_count": 25,
   "metadata": {},
   "outputs": [],
   "source": [
    "df=df.drop('Age')"
   ]
  },
  {
   "cell_type": "code",
   "execution_count": 26,
   "metadata": {},
   "outputs": [
    {
     "name": "stdout",
     "output_type": "stream",
     "text": [
      "+-----------------------------------------+------+\n",
      "|Username; Identifier;First name;Last name|Salary|\n",
      "+-----------------------------------------+------+\n",
      "|                     booker12;9012;Rac...|     0|\n",
      "|                     grey07;2070;Laura...|     0|\n",
      "|                     johnson81;4081;Cr...|     0|\n",
      "|                     jenkins46;9346;Ma...|     0|\n",
      "|                     smith79;5079;Jami...|     0|\n",
      "+-----------------------------------------+------+\n",
      "\n"
     ]
    }
   ],
   "source": [
    "df.show()"
   ]
  },
  {
   "cell_type": "code",
   "execution_count": 28,
   "metadata": {},
   "outputs": [],
   "source": [
    "df=df.withColumnRenamed('Salary','Initial Salary')"
   ]
  },
  {
   "cell_type": "code",
   "execution_count": 29,
   "metadata": {},
   "outputs": [
    {
     "name": "stdout",
     "output_type": "stream",
     "text": [
      "+-----------------------------------------+--------------+\n",
      "|Username; Identifier;First name;Last name|Initial Salary|\n",
      "+-----------------------------------------+--------------+\n",
      "|                     booker12;9012;Rac...|             0|\n",
      "|                     grey07;2070;Laura...|             0|\n",
      "|                     johnson81;4081;Cr...|             0|\n",
      "|                     jenkins46;9346;Ma...|             0|\n",
      "|                     smith79;5079;Jami...|             0|\n",
      "+-----------------------------------------+--------------+\n",
      "\n"
     ]
    }
   ],
   "source": [
    "df.show()"
   ]
  },
  {
   "cell_type": "code",
   "execution_count": 30,
   "metadata": {},
   "outputs": [
    {
     "name": "stdout",
     "output_type": "stream",
     "text": [
      "+---------+----------+----------+---------+\n",
      "| Username|Identifier|First name|Last name|\n",
      "+---------+----------+----------+---------+\n",
      "| booker12|      9012|    Rachel|   Booker|\n",
      "|   grey07|      2070|     Laura|     Grey|\n",
      "|johnson81|      4081|     Craig|  Johnson|\n",
      "|jenkins46|      9346|      Mary|  Jenkins|\n",
      "|  smith79|      5079|     Jamie|    Smith|\n",
      "+---------+----------+----------+---------+\n",
      "\n"
     ]
    }
   ],
   "source": [
    "df_parsed.show()"
   ]
  },
  {
   "cell_type": "code",
   "execution_count": 31,
   "metadata": {},
   "outputs": [],
   "source": [
    "df_parsed = df_parsed.withColumn('Salary', lit(0))"
   ]
  },
  {
   "cell_type": "code",
   "execution_count": 32,
   "metadata": {},
   "outputs": [
    {
     "name": "stdout",
     "output_type": "stream",
     "text": [
      "+---------+----------+----------+---------+------+\n",
      "| Username|Identifier|First name|Last name|Salary|\n",
      "+---------+----------+----------+---------+------+\n",
      "| booker12|      9012|    Rachel|   Booker|     0|\n",
      "|   grey07|      2070|     Laura|     Grey|     0|\n",
      "|johnson81|      4081|     Craig|  Johnson|     0|\n",
      "|jenkins46|      9346|      Mary|  Jenkins|     0|\n",
      "|  smith79|      5079|     Jamie|    Smith|     0|\n",
      "+---------+----------+----------+---------+------+\n",
      "\n"
     ]
    }
   ],
   "source": [
    "df_parsed.show()"
   ]
  },
  {
   "cell_type": "code",
   "execution_count": null,
   "metadata": {},
   "outputs": [],
   "source": []
  }
 ],
 "metadata": {
  "kernelspec": {
   "display_name": "my_env",
   "language": "python",
   "name": "python3"
  },
  "language_info": {
   "codemirror_mode": {
    "name": "ipython",
    "version": 3
   },
   "file_extension": ".py",
   "mimetype": "text/x-python",
   "name": "python",
   "nbconvert_exporter": "python",
   "pygments_lexer": "ipython3",
   "version": "3.12.1"
  }
 },
 "nbformat": 4,
 "nbformat_minor": 2
}
