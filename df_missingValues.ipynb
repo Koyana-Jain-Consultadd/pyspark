{
 "cells": [
  {
   "cell_type": "code",
   "execution_count": 1,
   "metadata": {},
   "outputs": [
    {
     "name": "stderr",
     "output_type": "stream",
     "text": [
      "24/04/04 19:14:31 WARN Utils: Your hostname, Koyanas-MacBook-Pro.local resolves to a loopback address: 127.0.0.1; using 192.168.29.17 instead (on interface en0)\n",
      "24/04/04 19:14:31 WARN Utils: Set SPARK_LOCAL_IP if you need to bind to another address\n",
      "Setting default log level to \"WARN\".\n",
      "To adjust logging level use sc.setLogLevel(newLevel). For SparkR, use setLogLevel(newLevel).\n",
      "24/04/04 19:14:31 WARN NativeCodeLoader: Unable to load native-hadoop library for your platform... using builtin-java classes where applicable\n",
      "24/04/04 19:14:31 WARN Utils: Service 'SparkUI' could not bind on port 4040. Attempting port 4041.\n"
     ]
    }
   ],
   "source": [
    "import pyspark\n",
    "from pyspark.sql import SparkSession\n",
    "\n",
    "spark=SparkSession.builder.appName('DataFrames').getOrCreate()\n"
   ]
  },
  {
   "cell_type": "code",
   "execution_count": 9,
   "metadata": {},
   "outputs": [
    {
     "name": "stdout",
     "output_type": "stream",
     "text": [
      "+------+----+------+----------+\n",
      "|  Name| Age|Salary|Experience|\n",
      "+------+----+------+----------+\n",
      "| Rahul|  19| 15000|         0|\n",
      "|Shweta|  20| 18000|      NULL|\n",
      "| Mohit|  22| 16000|      NULL|\n",
      "|  Raju|  25|  NULL|         1|\n",
      "|Preeti|  30| 25000|      NULL|\n",
      "|Laxman|  24| 32000|         2|\n",
      "|Keshav|NULL|  NULL|      NULL|\n",
      "+------+----+------+----------+\n",
      "\n"
     ]
    }
   ],
   "source": [
    "fr=spark.read.csv('test.csv',header=True,inferSchema=True)\n",
    "fr.show()"
   ]
  },
  {
   "cell_type": "code",
   "execution_count": 10,
   "metadata": {},
   "outputs": [
    {
     "name": "stdout",
     "output_type": "stream",
     "text": [
      "root\n",
      " |-- Name: string (nullable = true)\n",
      " |-- Age: integer (nullable = true)\n",
      " |-- Salary: integer (nullable = true)\n",
      " |-- Experience: integer (nullable = true)\n",
      "\n"
     ]
    }
   ],
   "source": [
    "fr.printSchema()"
   ]
  },
  {
   "cell_type": "code",
   "execution_count": 11,
   "metadata": {},
   "outputs": [
    {
     "name": "stdout",
     "output_type": "stream",
     "text": [
      "+------+---+------+----------+\n",
      "|  Name|Age|Salary|Experience|\n",
      "+------+---+------+----------+\n",
      "| Rahul| 19| 15000|         0|\n",
      "|Laxman| 24| 32000|         2|\n",
      "+------+---+------+----------+\n",
      "\n"
     ]
    }
   ],
   "source": [
    "fr.na.drop().show()"
   ]
  },
  {
   "cell_type": "code",
   "execution_count": 12,
   "metadata": {},
   "outputs": [
    {
     "name": "stdout",
     "output_type": "stream",
     "text": [
      "+------+----+------+----------+\n",
      "|  Name| Age|Salary|Experience|\n",
      "+------+----+------+----------+\n",
      "| Rahul|  19| 15000|         0|\n",
      "|Shweta|  20| 18000|      NULL|\n",
      "| Mohit|  22| 16000|      NULL|\n",
      "|  Raju|  25|  NULL|         1|\n",
      "|Preeti|  30| 25000|      NULL|\n",
      "|Laxman|  24| 32000|         2|\n",
      "|Keshav|NULL|  NULL|      NULL|\n",
      "+------+----+------+----------+\n",
      "\n"
     ]
    }
   ],
   "source": [
    "fr.na.drop(how=\"all\").show()"
   ]
  },
  {
   "cell_type": "code",
   "execution_count": 13,
   "metadata": {},
   "outputs": [
    {
     "name": "stdout",
     "output_type": "stream",
     "text": [
      "+------+---+------+----------+\n",
      "|  Name|Age|Salary|Experience|\n",
      "+------+---+------+----------+\n",
      "| Rahul| 19| 15000|         0|\n",
      "|Laxman| 24| 32000|         2|\n",
      "+------+---+------+----------+\n",
      "\n"
     ]
    }
   ],
   "source": [
    "fr.na.drop(how=\"any\").show()"
   ]
  },
  {
   "cell_type": "code",
   "execution_count": 14,
   "metadata": {},
   "outputs": [
    {
     "name": "stdout",
     "output_type": "stream",
     "text": [
      "+------+---+------+----------+\n",
      "|  Name|Age|Salary|Experience|\n",
      "+------+---+------+----------+\n",
      "| Rahul| 19| 15000|         0|\n",
      "|Shweta| 20| 18000|      NULL|\n",
      "| Mohit| 22| 16000|      NULL|\n",
      "|  Raju| 25|  NULL|         1|\n",
      "|Preeti| 30| 25000|      NULL|\n",
      "|Laxman| 24| 32000|         2|\n",
      "+------+---+------+----------+\n",
      "\n"
     ]
    }
   ],
   "source": [
    "fr.na.drop(how=\"any\",thresh=2).show()"
   ]
  },
  {
   "cell_type": "code",
   "execution_count": 15,
   "metadata": {},
   "outputs": [
    {
     "name": "stdout",
     "output_type": "stream",
     "text": [
      "+------+---+------+----------+\n",
      "|  Name|Age|Salary|Experience|\n",
      "+------+---+------+----------+\n",
      "| Rahul| 19| 15000|         0|\n",
      "|  Raju| 25|  NULL|         1|\n",
      "|Laxman| 24| 32000|         2|\n",
      "+------+---+------+----------+\n",
      "\n"
     ]
    }
   ],
   "source": [
    "fr.na.drop(how=\"any\",subset=['Experience']).show()"
   ]
  },
  {
   "cell_type": "code",
   "execution_count": 22,
   "metadata": {},
   "outputs": [
    {
     "name": "stdout",
     "output_type": "stream",
     "text": [
      "+------+----+------+----------+\n",
      "|  Name| Age|Salary|Experience|\n",
      "+------+----+------+----------+\n",
      "| Rahul|  19| 15000|         0|\n",
      "|Shweta|  20| 18000|      text|\n",
      "| Mohit|  22| 16000|      text|\n",
      "|  Raju|  25|  text|         1|\n",
      "|Preeti|  30| 25000|      text|\n",
      "|Laxman|  24| 32000|         2|\n",
      "|Keshav|text|  text|      text|\n",
      "+------+----+------+----------+\n",
      "\n"
     ]
    }
   ],
   "source": [
    "# Read the CSV file into a DataFrame\n",
    "df = spark.read.option(\"header\", \"true\").csv(\"test.csv\")\n",
    "\n",
    "# Fill NULL values with 'text' for all columns\n",
    "df_filled = df.na.fill(\"text\")\n",
    "\n",
    "# Show the DataFrame\n",
    "df_filled.show()\n"
   ]
  },
  {
   "cell_type": "code",
   "execution_count": 23,
   "metadata": {},
   "outputs": [
    {
     "name": "stdout",
     "output_type": "stream",
     "text": [
      "+------+----+------+----------+\n",
      "|  Name| Age|Salary|Experience|\n",
      "+------+----+------+----------+\n",
      "| Rahul|  19| 15000|         0|\n",
      "|Shweta|  20| 18000|      NULL|\n",
      "| Mohit|  22| 16000|      NULL|\n",
      "|  Raju|  25|  NULL|         1|\n",
      "|Preeti|  30| 25000|      NULL|\n",
      "|Laxman|  24| 32000|         2|\n",
      "|Keshav|NULL|  NULL|      NULL|\n",
      "+------+----+------+----------+\n",
      "\n",
      "root\n",
      " |-- Name: string (nullable = true)\n",
      " |-- Age: integer (nullable = true)\n",
      " |-- Salary: integer (nullable = true)\n",
      " |-- Experience: integer (nullable = true)\n",
      "\n"
     ]
    }
   ],
   "source": [
    "fr.show()\n",
    "fr.printSchema()"
   ]
  },
  {
   "cell_type": "code",
   "execution_count": 31,
   "metadata": {},
   "outputs": [
    {
     "name": "stdout",
     "output_type": "stream",
     "text": [
      "+------+----+------+----------+-----------+--------------+------------------+\n",
      "|  Name| Age|Salary|Experience|Age_imputed|Salary_imputed|Experience_imputed|\n",
      "+------+----+------+----------+-----------+--------------+------------------+\n",
      "| Rahul|  19| 15000|         0|         19|         15000|                 0|\n",
      "|Shweta|  20| 18000|      NULL|         20|         18000|                 1|\n",
      "| Mohit|  22| 16000|      NULL|         22|         16000|                 1|\n",
      "|  Raju|  25|  NULL|         1|         25|         21200|                 1|\n",
      "|Preeti|  30| 25000|      NULL|         30|         25000|                 1|\n",
      "|Laxman|  24| 32000|         2|         24|         32000|                 2|\n",
      "|Keshav|NULL|  NULL|      NULL|         23|         21200|                 1|\n",
      "+------+----+------+----------+-----------+--------------+------------------+\n",
      "\n"
     ]
    }
   ],
   "source": [
    "from pyspark.ml.feature import Imputer\n",
    "\n",
    "# Specify the output columns for imputed values\n",
    "output_cols = [\"{}_imputed\".format(c) for c in ['Age','Salary','Experience']]\n",
    "\n",
    "try:\n",
    "    imputer = Imputer(\n",
    "        inputCols=['Age','Salary','Experience'],\n",
    "        outputCols=output_cols\n",
    "    ).setStrategy(\"mean\")\n",
    "\n",
    "    # Fit and transform the DataFrame\n",
    "    imputed_df = imputer.fit(fr).transform(fr)\n",
    "\n",
    "    # Show the DataFrame with imputed values\n",
    "    imputed_df.show()\n",
    "\n",
    "except Exception as e:\n",
    "    print(\"An error occurred:\", e)\n"
   ]
  },
  {
   "cell_type": "code",
   "execution_count": 32,
   "metadata": {},
   "outputs": [
    {
     "name": "stdout",
     "output_type": "stream",
     "text": [
      "+------+---+------+----------+\n",
      "|  Name|Age|Salary|Experience|\n",
      "+------+---+------+----------+\n",
      "| Rahul| 19| 15000|         0|\n",
      "|Shweta| 20| 18000|      NULL|\n",
      "| Mohit| 22| 16000|      NULL|\n",
      "+------+---+------+----------+\n",
      "\n"
     ]
    }
   ],
   "source": [
    "fr.filter(\"Salary <= 20000\").show()"
   ]
  },
  {
   "cell_type": "code",
   "execution_count": 33,
   "metadata": {},
   "outputs": [
    {
     "name": "stdout",
     "output_type": "stream",
     "text": [
      "+------+---+\n",
      "|  Name|Age|\n",
      "+------+---+\n",
      "| Rahul| 19|\n",
      "|Shweta| 20|\n",
      "| Mohit| 22|\n",
      "+------+---+\n",
      "\n"
     ]
    }
   ],
   "source": [
    "fr.filter(\"Salary <= 20000\").select(['Name','Age']).show()"
   ]
  },
  {
   "cell_type": "code",
   "execution_count": 35,
   "metadata": {},
   "outputs": [
    {
     "name": "stdout",
     "output_type": "stream",
     "text": [
      "+------+---+------+----------+\n",
      "|  Name|Age|Salary|Experience|\n",
      "+------+---+------+----------+\n",
      "|Preeti| 30| 25000|      NULL|\n",
      "+------+---+------+----------+\n",
      "\n"
     ]
    }
   ],
   "source": [
    "fr.filter((fr['Salary']<=25000) & (fr['Salary']>=20000)).show()"
   ]
  },
  {
   "cell_type": "code",
   "execution_count": 36,
   "metadata": {},
   "outputs": [
    {
     "name": "stdout",
     "output_type": "stream",
     "text": [
      "+------+---+------+----------+\n",
      "|  Name|Age|Salary|Experience|\n",
      "+------+---+------+----------+\n",
      "|Preeti| 30| 25000|      NULL|\n",
      "|Laxman| 24| 32000|         2|\n",
      "+------+---+------+----------+\n",
      "\n"
     ]
    }
   ],
   "source": [
    "fr.filter(~(fr['Salary']<=20000)).show()"
   ]
  },
  {
   "cell_type": "code",
   "execution_count": null,
   "metadata": {},
   "outputs": [],
   "source": []
  }
 ],
 "metadata": {
  "kernelspec": {
   "display_name": "my_env",
   "language": "python",
   "name": "python3"
  },
  "language_info": {
   "codemirror_mode": {
    "name": "ipython",
    "version": 3
   },
   "file_extension": ".py",
   "mimetype": "text/x-python",
   "name": "python",
   "nbconvert_exporter": "python",
   "pygments_lexer": "ipython3",
   "version": "3.12.1"
  }
 },
 "nbformat": 4,
 "nbformat_minor": 2
}
