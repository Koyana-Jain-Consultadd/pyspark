{
 "cells": [
  {
   "cell_type": "code",
   "execution_count": 1,
   "metadata": {},
   "outputs": [
    {
     "name": "stderr",
     "output_type": "stream",
     "text": [
      "24/04/04 22:13:02 WARN Utils: Your hostname, Koyanas-MacBook-Pro.local resolves to a loopback address: 127.0.0.1; using 192.168.29.17 instead (on interface en0)\n",
      "24/04/04 22:13:02 WARN Utils: Set SPARK_LOCAL_IP if you need to bind to another address\n",
      "Setting default log level to \"WARN\".\n",
      "To adjust logging level use sc.setLogLevel(newLevel). For SparkR, use setLogLevel(newLevel).\n",
      "24/04/04 22:13:02 WARN NativeCodeLoader: Unable to load native-hadoop library for your platform... using builtin-java classes where applicable\n"
     ]
    }
   ],
   "source": [
    "import pyspark\n",
    "from pyspark.sql import SparkSession\n",
    "\n",
    "spark=SparkSession.builder.appName('Training').getOrCreate()"
   ]
  },
  {
   "cell_type": "code",
   "execution_count": 2,
   "metadata": {},
   "outputs": [
    {
     "name": "stdout",
     "output_type": "stream",
     "text": [
      "+------+---+------+----------+\n",
      "|  Name|Age|Salary|Experience|\n",
      "+------+---+------+----------+\n",
      "| Rahul| 19|  5000|         0|\n",
      "|Shweta| 20|  9000|         0|\n",
      "| Mohit| 22| 16000|         1|\n",
      "|  Raju| 25| 12000|         1|\n",
      "|Preeti| 30| 25000|         2|\n",
      "|Laxman| 24| 32000|         2|\n",
      "|Keshav| 21| 17000|         1|\n",
      "+------+---+------+----------+\n",
      "\n"
     ]
    }
   ],
   "source": [
    "tr=spark.read.csv('test_ml.csv',header=True,inferSchema=True)\n",
    "tr.show()"
   ]
  },
  {
   "cell_type": "code",
   "execution_count": 3,
   "metadata": {},
   "outputs": [
    {
     "name": "stdout",
     "output_type": "stream",
     "text": [
      "root\n",
      " |-- Name: string (nullable = true)\n",
      " |-- Age: integer (nullable = true)\n",
      " |-- Salary: integer (nullable = true)\n",
      " |-- Experience: integer (nullable = true)\n",
      "\n"
     ]
    }
   ],
   "source": [
    "tr.printSchema()"
   ]
  },
  {
   "cell_type": "code",
   "execution_count": 4,
   "metadata": {},
   "outputs": [],
   "source": [
    "from pyspark.ml.feature import VectorAssembler\n",
    "featureass=VectorAssembler(inputCols=['Age','Experience'],outputCol=\"new_feature\")"
   ]
  },
  {
   "cell_type": "code",
   "execution_count": 5,
   "metadata": {},
   "outputs": [],
   "source": [
    "df=featureass.transform(tr)"
   ]
  },
  {
   "cell_type": "code",
   "execution_count": 6,
   "metadata": {},
   "outputs": [
    {
     "name": "stdout",
     "output_type": "stream",
     "text": [
      "+------+---+------+----------+-----------+\n",
      "|  Name|Age|Salary|Experience|new_feature|\n",
      "+------+---+------+----------+-----------+\n",
      "| Rahul| 19|  5000|         0| [19.0,0.0]|\n",
      "|Shweta| 20|  9000|         0| [20.0,0.0]|\n",
      "| Mohit| 22| 16000|         1| [22.0,1.0]|\n",
      "|  Raju| 25| 12000|         1| [25.0,1.0]|\n",
      "|Preeti| 30| 25000|         2| [30.0,2.0]|\n",
      "|Laxman| 24| 32000|         2| [24.0,2.0]|\n",
      "|Keshav| 21| 17000|         1| [21.0,1.0]|\n",
      "+------+---+------+----------+-----------+\n",
      "\n"
     ]
    }
   ],
   "source": [
    "df.show()"
   ]
  },
  {
   "cell_type": "code",
   "execution_count": 7,
   "metadata": {},
   "outputs": [
    {
     "name": "stdout",
     "output_type": "stream",
     "text": [
      "+-----------+------+\n",
      "|new_feature|Salary|\n",
      "+-----------+------+\n",
      "| [19.0,0.0]|  5000|\n",
      "| [20.0,0.0]|  9000|\n",
      "| [22.0,1.0]| 16000|\n",
      "| [25.0,1.0]| 12000|\n",
      "| [30.0,2.0]| 25000|\n",
      "| [24.0,2.0]| 32000|\n",
      "| [21.0,1.0]| 17000|\n",
      "+-----------+------+\n",
      "\n"
     ]
    }
   ],
   "source": [
    "data=df.select(['new_feature','Salary'])\n",
    "data.show()"
   ]
  },
  {
   "cell_type": "code",
   "execution_count": 8,
   "metadata": {},
   "outputs": [
    {
     "name": "stderr",
     "output_type": "stream",
     "text": [
      "24/04/04 22:26:34 WARN Instrumentation: [c6559e35] regParam is zero, which might cause numerical instability and overfitting.\n",
      "24/04/04 22:26:34 WARN InstanceBuilder: Failed to load implementation from:dev.ludovic.netlib.blas.JNIBLAS\n",
      "24/04/04 22:26:34 WARN InstanceBuilder: Failed to load implementation from:dev.ludovic.netlib.lapack.JNILAPACK\n"
     ]
    }
   ],
   "source": [
    "from pyspark.ml.regression import LinearRegression\n",
    "train_data,test_data=data.randomSplit([0.75,0.25])\n",
    "regressor=LinearRegression(featuresCol='new_feature',labelCol='Salary')\n",
    "regressor=regressor.fit(train_data)"
   ]
  },
  {
   "cell_type": "code",
   "execution_count": 9,
   "metadata": {},
   "outputs": [
    {
     "data": {
      "text/plain": [
       "DenseVector([-1200.0, 18700.0])"
      ]
     },
     "execution_count": 9,
     "metadata": {},
     "output_type": "execute_result"
    }
   ],
   "source": [
    "regressor.coefficients"
   ]
  },
  {
   "cell_type": "code",
   "execution_count": 10,
   "metadata": {},
   "outputs": [
    {
     "data": {
      "text/plain": [
       "23500.000000000062"
      ]
     },
     "execution_count": 10,
     "metadata": {},
     "output_type": "execute_result"
    }
   ],
   "source": [
    "regressor.intercept"
   ]
  },
  {
   "cell_type": "code",
   "execution_count": 11,
   "metadata": {},
   "outputs": [],
   "source": [
    "result=regressor.evaluate(test_data)"
   ]
  },
  {
   "cell_type": "code",
   "execution_count": 12,
   "metadata": {},
   "outputs": [
    {
     "name": "stdout",
     "output_type": "stream",
     "text": [
      "+-----------+------+-------------------+\n",
      "|new_feature|Salary|         prediction|\n",
      "+-----------+------+-------------------+\n",
      "| [19.0,0.0]|  5000|  700.0000000000873|\n",
      "| [20.0,0.0]|  9000|-499.99999999990905|\n",
      "+-----------+------+-------------------+\n",
      "\n"
     ]
    }
   ],
   "source": [
    "result.predictions.show()"
   ]
  },
  {
   "cell_type": "code",
   "execution_count": null,
   "metadata": {},
   "outputs": [],
   "source": []
  }
 ],
 "metadata": {
  "kernelspec": {
   "display_name": "my_env",
   "language": "python",
   "name": "python3"
  },
  "language_info": {
   "codemirror_mode": {
    "name": "ipython",
    "version": 3
   },
   "file_extension": ".py",
   "mimetype": "text/x-python",
   "name": "python",
   "nbconvert_exporter": "python",
   "pygments_lexer": "ipython3",
   "version": "3.12.1"
  }
 },
 "nbformat": 4,
 "nbformat_minor": 2
}
