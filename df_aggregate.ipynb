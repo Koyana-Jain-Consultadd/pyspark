{
 "cells": [
  {
   "cell_type": "code",
   "execution_count": 1,
   "metadata": {},
   "outputs": [
    {
     "name": "stderr",
     "output_type": "stream",
     "text": [
      "24/04/04 21:45:57 WARN Utils: Your hostname, Koyanas-MacBook-Pro.local resolves to a loopback address: 127.0.0.1; using 192.168.29.17 instead (on interface en0)\n",
      "24/04/04 21:45:57 WARN Utils: Set SPARK_LOCAL_IP if you need to bind to another address\n",
      "Setting default log level to \"WARN\".\n",
      "To adjust logging level use sc.setLogLevel(newLevel). For SparkR, use setLogLevel(newLevel).\n",
      "24/04/04 21:45:58 WARN NativeCodeLoader: Unable to load native-hadoop library for your platform... using builtin-java classes where applicable\n",
      "24/04/04 21:45:58 WARN Utils: Service 'SparkUI' could not bind on port 4040. Attempting port 4041.\n",
      "24/04/04 21:45:58 WARN Utils: Service 'SparkUI' could not bind on port 4041. Attempting port 4042.\n"
     ]
    }
   ],
   "source": [
    "import pyspark\n",
    "from pyspark.sql import SparkSession\n",
    "\n",
    "spark=SparkSession.builder.appName('Aggregate').getOrCreate()"
   ]
  },
  {
   "cell_type": "code",
   "execution_count": 2,
   "metadata": {},
   "outputs": [
    {
     "name": "stdout",
     "output_type": "stream",
     "text": [
      "+------+---+------+----------+\n",
      "|  Name|Age|Salary|Department|\n",
      "+------+---+------+----------+\n",
      "| Rahul| 19| 25000|       ISE|\n",
      "|Shweta| 20| 50000|       MTE|\n",
      "| Mohit| 22| 25000|       ISE|\n",
      "|  Raju| 25| 75000|        SE|\n",
      "|Preeti| 30| 75000|        SE|\n",
      "|Laxman| 24| 50000|       MTE|\n",
      "|Keshav| 23| 25000|       ISE|\n",
      "+------+---+------+----------+\n",
      "\n"
     ]
    }
   ],
   "source": [
    "ag=spark.read.csv('test_agg.csv',header=True,inferSchema=True)\n",
    "ag.show()"
   ]
  },
  {
   "cell_type": "code",
   "execution_count": 3,
   "metadata": {},
   "outputs": [
    {
     "name": "stdout",
     "output_type": "stream",
     "text": [
      "root\n",
      " |-- Name: string (nullable = true)\n",
      " |-- Age: integer (nullable = true)\n",
      " |-- Salary: integer (nullable = true)\n",
      " |-- Department: string (nullable = true)\n",
      "\n"
     ]
    }
   ],
   "source": [
    "ag.printSchema()"
   ]
  },
  {
   "cell_type": "code",
   "execution_count": 4,
   "metadata": {},
   "outputs": [
    {
     "name": "stdout",
     "output_type": "stream",
     "text": [
      "+----------+--------+-----------+\n",
      "|Department|sum(Age)|sum(Salary)|\n",
      "+----------+--------+-----------+\n",
      "|       MTE|      44|     100000|\n",
      "|       ISE|      64|      75000|\n",
      "|        SE|      55|     150000|\n",
      "+----------+--------+-----------+\n",
      "\n"
     ]
    }
   ],
   "source": [
    "ag.groupBy('Department').sum().show()"
   ]
  },
  {
   "cell_type": "code",
   "execution_count": 9,
   "metadata": {},
   "outputs": [
    {
     "name": "stdout",
     "output_type": "stream",
     "text": [
      "+----------+--------+-----------+\n",
      "|Department|sum(Age)|sum(Salary)|\n",
      "+----------+--------+-----------+\n",
      "|       MTE|      44|     100000|\n",
      "|       ISE|      64|      75000|\n",
      "|        SE|      55|     150000|\n",
      "+----------+--------+-----------+\n",
      "\n"
     ]
    }
   ],
   "source": [
    "ag.groupBy('Department').sum().show()"
   ]
  },
  {
   "cell_type": "code",
   "execution_count": 10,
   "metadata": {},
   "outputs": [
    {
     "name": "stdout",
     "output_type": "stream",
     "text": [
      "+----------+--------+-----------+\n",
      "|Department|max(Age)|max(Salary)|\n",
      "+----------+--------+-----------+\n",
      "|       MTE|      24|      50000|\n",
      "|       ISE|      23|      25000|\n",
      "|        SE|      30|      75000|\n",
      "+----------+--------+-----------+\n",
      "\n"
     ]
    }
   ],
   "source": [
    "ag.groupBy('Department').max().show()"
   ]
  },
  {
   "cell_type": "code",
   "execution_count": 11,
   "metadata": {},
   "outputs": [
    {
     "name": "stdout",
     "output_type": "stream",
     "text": [
      "+----------+------------------+-----------+\n",
      "|Department|          avg(Age)|avg(Salary)|\n",
      "+----------+------------------+-----------+\n",
      "|       MTE|              22.0|    50000.0|\n",
      "|       ISE|21.333333333333332|    25000.0|\n",
      "|        SE|              27.5|    75000.0|\n",
      "+----------+------------------+-----------+\n",
      "\n"
     ]
    }
   ],
   "source": [
    "ag.groupBy('Department').mean().show()"
   ]
  },
  {
   "cell_type": "code",
   "execution_count": 12,
   "metadata": {},
   "outputs": [
    {
     "name": "stdout",
     "output_type": "stream",
     "text": [
      "+----------+-----+\n",
      "|Department|count|\n",
      "+----------+-----+\n",
      "|       MTE|    2|\n",
      "|       ISE|    3|\n",
      "|        SE|    2|\n",
      "+----------+-----+\n",
      "\n"
     ]
    }
   ],
   "source": [
    "ag.groupBy('Department').count().show()"
   ]
  },
  {
   "cell_type": "code",
   "execution_count": 15,
   "metadata": {},
   "outputs": [
    {
     "name": "stdout",
     "output_type": "stream",
     "text": [
      "+-----------+\n",
      "|sum(Salary)|\n",
      "+-----------+\n",
      "|     325000|\n",
      "+-----------+\n",
      "\n"
     ]
    }
   ],
   "source": [
    "#apply aggregate functions directly\n",
    "\n",
    "ag.agg({'Salary':'sum'}).show()"
   ]
  },
  {
   "cell_type": "code",
   "execution_count": 18,
   "metadata": {},
   "outputs": [
    {
     "name": "stdout",
     "output_type": "stream",
     "text": [
      "+------+--------+-----------+\n",
      "|  Name|max(Age)|max(Salary)|\n",
      "+------+--------+-----------+\n",
      "|Preeti|      30|      75000|\n",
      "|Keshav|      23|      25000|\n",
      "|  Raju|      25|      75000|\n",
      "| Rahul|      19|      25000|\n",
      "|Shweta|      20|      50000|\n",
      "| Mohit|      22|      25000|\n",
      "|Laxman|      24|      50000|\n",
      "+------+--------+-----------+\n",
      "\n"
     ]
    }
   ],
   "source": [
    "ag.groupBy('Name').max().show()"
   ]
  },
  {
   "cell_type": "code",
   "execution_count": null,
   "metadata": {},
   "outputs": [],
   "source": []
  }
 ],
 "metadata": {
  "kernelspec": {
   "display_name": "my_env",
   "language": "python",
   "name": "python3"
  },
  "language_info": {
   "codemirror_mode": {
    "name": "ipython",
    "version": 3
   },
   "file_extension": ".py",
   "mimetype": "text/x-python",
   "name": "python",
   "nbconvert_exporter": "python",
   "pygments_lexer": "ipython3",
   "version": "3.12.1"
  }
 },
 "nbformat": 4,
 "nbformat_minor": 2
}
